{
 "cells": [
  {
   "cell_type": "code",
   "execution_count": 1,
   "id": "2ab40ba0-e833-4f29-b91b-ccb6ffaa7b0e",
   "metadata": {},
   "outputs": [],
   "source": [
    "import copy\n",
    "import re\n",
    "from iteration_utilities import deepflatten"
   ]
  },
  {
   "cell_type": "code",
   "execution_count": 2,
   "id": "fc637b2f-a458-4018-8957-f80713328996",
   "metadata": {},
   "outputs": [],
   "source": [
    "def is_number(s):\n",
    "    try:\n",
    "        float(s) \n",
    "    except ValueError:\n",
    "        try:\n",
    "            complex(s) \n",
    "        except ValueError:\n",
    "            return False\n",
    "    return True"
   ]
  },
  {
   "cell_type": "code",
   "execution_count": 3,
   "id": "ba072664-b534-446c-a4fe-e942706e71a8",
   "metadata": {},
   "outputs": [],
   "source": [
    "class Frame:\n",
    "    def __init__(self,arg=None):\n",
    "        if arg is None:\n",
    "            self._global=dict()\n",
    "            self._atomic=dict(dict())\n",
    "        if isinstance(arg,Frame):\n",
    "            self._global=copy.deepcopy(arg._global)\n",
    "            self._atomic=copy.deepcopy(arg._atomic)\n",
    "    \n",
    "    def __getitem__(self,key1):\n",
    "        index,key=key1\n",
    "        if index == -1:\n",
    "            return self._global[key]\n",
    "        else: \n",
    "            return self._atomic[index][key]\n",
    "        \n",
    "    def __setitem__(self,key1,val):\n",
    "        index,key=key1\n",
    "        if index == -1:\n",
    "            self._global.update({key:val})\n",
    "        else: \n",
    "            if index in self._atomic:\n",
    "                self._atomic[index].update({key:val})\n",
    "            else:\n",
    "                empt=dict()\n",
    "                self._atomic.update({index:empt})\n",
    "                self._atomic[index].update({key:val})\n",
    "        "
   ]
  },
  {
   "cell_type": "code",
   "execution_count": 4,
   "id": "200698ed-73fc-43cc-a6bc-7f68d19826cf",
   "metadata": {},
   "outputs": [],
   "source": [
    "# Code does not check if atom index is repeated \n",
    "# or missing data entries. \n",
    "def read_reax_traj(filename,\n",
    "                   global_names=['Step','N','Lx_min','Lx_max','Ly_min','Ly_max','Lz_min','Lz_max'],\n",
    "                   atom_names=['type','x','y','z','vx','vy','vz'],\n",
    "                   type_list=['','O','H']):\n",
    "    comment_pattern=re.compile(r\"\\n\")\n",
    "    data_pattern=re.compile(r\"\\s\")\n",
    "    inHeader=True\n",
    "    frame=Frame()\n",
    "    traj=[]\n",
    "    with open(filename, 'r') as file:\n",
    "        line=file.readline()\n",
    "        while line:\n",
    "            if inHeader:\n",
    "                line_items=comment_pattern.split(line)\n",
    "            else:\n",
    "                line_items=data_pattern.split(line)\n",
    "                \n",
    "            \n",
    "            if not inHeader:\n",
    "                if not is_number(line_items[0]):\n",
    "                    if count != N_actual:\n",
    "                        raise ValueError(f\"{count} lines, instead of {N_actual}\")\n",
    "                        \n",
    "                    inHeader=True\n",
    "                    line_items=comment_pattern.split(line)\n",
    "                else:\n",
    "                    ind=int(line_items[0])\n",
    "                    frame[ind,atom_names[0]]=type_list[int(line_items[1])]\n",
    "                    frame[ind,atom_names[1]]=float(line_items[2])\n",
    "                    frame[ind,atom_names[2]]=float(line_items[3])\n",
    "                    frame[ind,atom_names[3]]=float(line_items[4])\n",
    "                    frame[ind,atom_names[4]]=float(line_items[5])\n",
    "                    frame[ind,atom_names[5]]=float(line_items[6])\n",
    "                    frame[ind,atom_names[6]]=float(line_items[7])\n",
    "                    count+=1\n",
    "\n",
    "            if line_items[0] == 'ITEM: TIMESTEP':\n",
    "                traj.append(Frame(frame))\n",
    "                frame=Frame()\n",
    "                line=file.readline()\n",
    "                line_items=data_pattern.split(line)\n",
    "                frame[-1,global_names[0]]=int(line_items[0])\n",
    "            \n",
    "            if line_items[0] == 'ITEM: NUMBER OF ATOMS':\n",
    "                line=file.readline()\n",
    "                line_items=data_pattern.split(line)\n",
    "                frame[-1,global_names[1]]=int(line_items[0])\n",
    "                N_actual=int(line_items[0])\n",
    "                \n",
    "            if line_items[0] == 'ITEM: BOX BOUNDS pp pp pp':\n",
    "                line=file.readline()\n",
    "                line_items=data_pattern.split(line)\n",
    "                frame[-1,global_names[2]]=float(line_items[0])\n",
    "                frame[-1,global_names[3]]=float(line_items[1])\n",
    "                line=file.readline()\n",
    "                line_items=data_pattern.split(line)\n",
    "                frame[-1,global_names[4]]=float(line_items[0])\n",
    "                frame[-1,global_names[5]]=float(line_items[1])\n",
    "                line=file.readline()\n",
    "                line_items=data_pattern.split(line)\n",
    "                frame[-1,global_names[6]]=float(line_items[0])\n",
    "                frame[-1,global_names[7]]=float(line_items[1])\n",
    "                \n",
    "            if line_items[0] == 'ITEM: ATOMS id type x y z vx vy vz':\n",
    "                inHeader=False\n",
    "                count=0\n",
    "            \n",
    "            line=file.readline()\n",
    "            \n",
    "        traj.append(Frame(frame))\n",
    "        traj.pop(0)\n",
    "    return traj"
   ]
  },
  {
   "cell_type": "code",
   "execution_count": 5,
   "id": "93d1f1b3-2f57-4d30-a7b4-2980b8323692",
   "metadata": {},
   "outputs": [],
   "source": [
    "def read_reax_log_traj(filename):\n",
    "    \n",
    "    def process_line(line):\n",
    "        data_pattern=re.compile(r\"\\s+\")\n",
    "        line=data_pattern.sub(\" \",line).strip()\n",
    "        return data_pattern.split(line)\n",
    "        \n",
    "    inHeader=True\n",
    "    key_items=[]\n",
    "    key_items_len=0\n",
    "    frame=Frame()\n",
    "    traj=[]\n",
    "    with open(filename, 'r') as file:\n",
    "        line=file.readline()\n",
    "        line_items=process_line(line)\n",
    "        \n",
    "        while line_items[0] != 'Step':\n",
    "            line=file.readline()\n",
    "            line_items=process_line(line)\n",
    "            \n",
    "        key_items=list(line_items)\n",
    "        key_items_len=len(key_items)\n",
    "        \n",
    "        line=file.readline()\n",
    "        line_items=process_line(line)\n",
    "        line_items_len=len(line_items)\n",
    "        \n",
    "        while line_items_len == key_items_len:\n",
    "            traj.append(Frame(frame))\n",
    "            frame=Frame()\n",
    "            \n",
    "            frame[-1,key_items[0]]=int(line_items[0])\n",
    "            \n",
    "            for ind in range(1,key_items_len):\n",
    "                frame[-1,key_items[ind]]=float(line_items[ind])\n",
    "                \n",
    "            line=file.readline()\n",
    "            line_items=process_line(line)\n",
    "            line_items_len=len(line_items)\n",
    "            \n",
    "            \n",
    "        traj.append(Frame(frame))\n",
    "        traj.pop(0)\n",
    "    return traj"
   ]
  },
  {
   "cell_type": "code",
   "execution_count": 6,
   "id": "6976b0e0-e9f2-42ef-bd71-94cdd2d9abb9",
   "metadata": {},
   "outputs": [],
   "source": [
    "def projections(traj,time_keys,index_keys,val_keys,depth=1):\n",
    "    l=list()\n",
    "    for frame in traj:\n",
    "        if frame[-1,'Step'] in time_keys:\n",
    "            index_list=list()\n",
    "            for index in index_keys:\n",
    "                val_list=list()\n",
    "                for val in val_keys:\n",
    "                    val_list.append(frame[index,val])\n",
    "                index_list.append(list(val_list))\n",
    "            l.append(list(index_list))\n",
    "    if depth == 0:\n",
    "        return l;\n",
    "    else:\n",
    "        return list(deepflatten(l,depth=depth))"
   ]
  },
  {
   "cell_type": "code",
   "execution_count": 7,
   "id": "9eab474a-c7f4-4385-8e7b-27481b051af5",
   "metadata": {},
   "outputs": [
    {
     "name": "stdout",
     "output_type": "stream",
     "text": [
      "[<__main__.Frame object at 0x105fef040>, <__main__.Frame object at 0x105f44b50>]\n"
     ]
    }
   ],
   "source": [
    "trj=read_reax_traj(\"test_traj.txt\")\n",
    "print(trj)"
   ]
  },
  {
   "cell_type": "code",
   "execution_count": 8,
   "id": "69b05f19-9572-4dbc-a89b-1372e9c5209e",
   "metadata": {},
   "outputs": [
    {
     "name": "stdout",
     "output_type": "stream",
     "text": [
      "[<__main__.Frame object at 0x105f449d0>, <__main__.Frame object at 0x105f44580>, <__main__.Frame object at 0x105f44370>, <__main__.Frame object at 0x105f44b20>, <__main__.Frame object at 0x105f44e50>, <__main__.Frame object at 0x105f449a0>, <__main__.Frame object at 0x105f44250>, <__main__.Frame object at 0x107335e20>]\n"
     ]
    }
   ],
   "source": [
    "trj_log=read_reax_log_traj(\"test_log.txt\")\n",
    "print(trj_log)"
   ]
  },
  {
   "cell_type": "code",
   "execution_count": 9,
   "id": "13385dfa-9cc0-4cf6-b422-9fb7d207a5c7",
   "metadata": {},
   "outputs": [
    {
     "name": "stdout",
     "output_type": "stream",
     "text": [
      "[[[4.69, 4.38, 3.83], [5.69, 4.47, 3.85]], [[9.69, 9.38, 3.83], [8.69, 8.47, 3.85]]]\n"
     ]
    }
   ],
   "source": [
    "l=projections(trj,[0,100],[4915,4916],['x','y','z'],depth=0)\n",
    "print(l)"
   ]
  },
  {
   "cell_type": "code",
   "execution_count": 10,
   "id": "6cfb3096-cc18-42d5-a318-f9ed8960b939",
   "metadata": {},
   "outputs": [
    {
     "name": "stdout",
     "output_type": "stream",
     "text": [
      "['O', 'H', 'H', 'H', 'O', 'H', 'H', 'H']\n"
     ]
    }
   ],
   "source": [
    "types=projections(trj,[0,100],[4915,4916,4917,9905],['type'],depth=2)\n",
    "print(types)"
   ]
  },
  {
   "cell_type": "code",
   "execution_count": 11,
   "id": "21273a5d-b329-49aa-8a68-b304e76ad21b",
   "metadata": {},
   "outputs": [
    {
     "name": "stdout",
     "output_type": "stream",
     "text": [
      "[4, 4]\n"
     ]
    }
   ],
   "source": [
    "number=projections(trj,[0,100],[-1],['N'],depth=-1)\n",
    "print(number)"
   ]
  },
  {
   "cell_type": "code",
   "execution_count": 12,
   "id": "12449598-0890-4b3b-a752-bb95b022ff11",
   "metadata": {},
   "outputs": [
    {
     "name": "stdout",
     "output_type": "stream",
     "text": [
      "[[177.26875, -4308271.0, -4282366.0, -6290.0336, 487140.35, 1.0035394, -4327053.2], [192.50222, -4309154.8, -4281023.6, 5959.734, 483875.68, 1.0103102, -4238966.8], [200.85192, -4308692.4, -4279341.0, -2143.447, 482460.56, 1.0132736, -4294422.7]]\n"
     ]
    }
   ],
   "source": [
    "data=projections(trj_log,[100,200,300],[-1],\n",
    "                  ['Temp', 'PotEng', 'TotEng', 'Press', 'Volume', 'Density', 'Enthalpy'],\n",
    "                   depth=1)\n",
    "print(data)"
   ]
  },
  {
   "cell_type": "code",
   "execution_count": null,
   "id": "000252e7-f77c-4f84-8b89-730ef7d98d19",
   "metadata": {},
   "outputs": [],
   "source": []
  }
 ],
 "metadata": {
  "kernelspec": {
   "display_name": "Python 3 (ipykernel)",
   "language": "python",
   "name": "python3"
  },
  "language_info": {
   "codemirror_mode": {
    "name": "ipython",
    "version": 3
   },
   "file_extension": ".py",
   "mimetype": "text/x-python",
   "name": "python",
   "nbconvert_exporter": "python",
   "pygments_lexer": "ipython3",
   "version": "3.8.13"
  }
 },
 "nbformat": 4,
 "nbformat_minor": 5
}
